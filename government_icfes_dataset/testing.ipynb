{
 "cells": [
  {
   "cell_type": "code",
   "execution_count": 1,
   "id": "236dc847",
   "metadata": {},
   "outputs": [
    {
     "name": "stdout",
     "output_type": "stream",
     "text": [
      "PyTorch GPU disponible: True\n",
      "GPU: NVIDIA GeForce RTX 4060 Laptop GPU\n",
      "\n",
      "Cargando datos...\n",
      "Dimensiones del DataFrame: (565658, 29)\n",
      "Muestra para pruebas: (28283, 29) (5% del total)\n",
      "\n",
      "Dividiendo datos en train/val/test...\n",
      "Train: (20363, 27), Validation: (2263, 27), Test: (5657, 27)\n"
     ]
    }
   ],
   "source": [
    "import pandas as pd\n",
    "import numpy as np\n",
    "from sklearn.metrics import mean_absolute_error, accuracy_score\n",
    "import torch\n",
    "\n",
    "print(\"PyTorch GPU disponible:\", torch.cuda.is_available())\n",
    "if torch.cuda.is_available():\n",
    "    print(\"GPU:\", torch.cuda.get_device_name(0))\n",
    "\n",
    "# Importar los modelos y funciones\n",
    "from convolutional import ConvRegressor, ConvClassifier, run_kfold_cv, train_test_val_split\n",
    "\n",
    "# Cargar datos\n",
    "print(\"\\nCargando datos...\")\n",
    "df = pd.read_csv(\"data/datos_variables_seleccionadas.csv\")\n",
    "print(f\"Dimensiones del DataFrame: {df.shape}\")\n",
    "\n",
    "# Tomar una muestra pequeña para pruebas rápidas\n",
    "df_sample = df.sample(frac=0.05, random_state=42).reset_index(drop=True)\n",
    "print(f\"Muestra para pruebas: {df_sample.shape} (5% del total)\")\n",
    "\n",
    "# Definir las variables objetivo\n",
    "target_cols = ['punt_matematicas', 'eco']\n",
    "\n",
    "# Dividir en train/val/test\n",
    "print(\"\\nDividiendo datos en train/val/test...\")\n",
    "X_train, y_train, X_val, y_val, X_test, y_test = train_test_val_split(\n",
    "    df_sample, target_cols, test_size=0.2, val_frac=0.1\n",
    ")\n",
    "\n",
    "print(f\"Train: {X_train.shape}, Validation: {X_val.shape}, Test: {X_test.shape}\")\n",
    "\n",
    "# === Conjunto para regresión (target: punt_matematicas) ===\n",
    "target_col_reg = 'punt_matematicas'\n",
    "\n",
    "X_train_reg = X_train.drop(columns=['eco'], errors='ignore')\n",
    "X_val_reg   = X_val.drop(columns=['eco'], errors='ignore')\n",
    "X_test_reg  = X_test.drop(columns=['eco'], errors='ignore')\n",
    "\n",
    "df_train_reg = pd.concat([X_train_reg, y_train[[target_col_reg]]], axis=1)\n",
    "df_val_reg   = pd.concat([X_val_reg,   y_val[[target_col_reg]]], axis=1)\n",
    "df_test_reg  = pd.concat([X_test_reg,  y_test[[target_col_reg]]], axis=1)\n",
    "\n",
    "# === Conjunto para clasificación (target: eco) ===\n",
    "target_col_clf = 'eco'\n",
    "\n",
    "X_train_clf = X_train.drop(columns=['punt_matematicas'], errors='ignore')\n",
    "X_val_clf   = X_val.drop(columns=['punt_matematicas'], errors='ignore')\n",
    "X_test_clf  = X_test.drop(columns=['punt_matematicas'], errors='ignore')\n",
    "\n",
    "df_train_clf = pd.concat([X_train_clf, y_train[[target_col_clf]]], axis=1)\n",
    "df_val_clf   = pd.concat([X_val_clf,   y_val[[target_col_clf]]], axis=1)\n",
    "df_test_clf  = pd.concat([X_test_clf,  y_test[[target_col_clf]]], axis=1)\n"
   ]
  },
  {
   "cell_type": "code",
   "execution_count": 2,
   "id": "ac69ef7e",
   "metadata": {},
   "outputs": [
    {
     "name": "stdout",
     "output_type": "stream",
     "text": [
      "\n",
      "=== PRUEBA MODELO DE REGRESIÓN (punt_matematicas) ===\n",
      "Construyendo modelo...\n"
     ]
    },
    {
     "data": {
      "text/plain": [
       "ConvRegressorModel(\n",
       "  (embeddings): ModuleList(\n",
       "    (0): Embedding(4, 4)\n",
       "    (1): Embedding(3, 4)\n",
       "    (2): Embedding(5, 4)\n",
       "    (3-4): 2 x Embedding(7, 4)\n",
       "    (5): Embedding(933, 4)\n",
       "    (6): Embedding(3, 4)\n",
       "    (7-8): 2 x Embedding(7, 4)\n",
       "    (9): Embedding(3, 4)\n",
       "    (10): Embedding(421, 4)\n",
       "    (11): Embedding(941, 4)\n",
       "    (12-14): 3 x Embedding(7, 4)\n",
       "    (15): Embedding(6, 4)\n",
       "  )\n",
       "  (conv_layers): ModuleList(\n",
       "    (0): Conv1d(1, 16, kernel_size=(3,), stride=(1,), padding=(1,))\n",
       "    (1): Conv1d(16, 32, kernel_size=(3,), stride=(1,), padding=(1,))\n",
       "  )\n",
       "  (bn_layers): ModuleList(\n",
       "    (0): BatchNorm1d(16, eps=1e-05, momentum=0.1, affine=True, track_running_stats=True)\n",
       "    (1): BatchNorm1d(32, eps=1e-05, momentum=0.1, affine=True, track_running_stats=True)\n",
       "  )\n",
       "  (pool_layers): ModuleList(\n",
       "    (0-1): 2 x MaxPool1d(kernel_size=2, stride=2, padding=0, dilation=1, ceil_mode=False)\n",
       "  )\n",
       "  (dropouts): ModuleList(\n",
       "    (0-1): 2 x Dropout(p=0.2, inplace=False)\n",
       "  )\n",
       "  (final_conv): Conv1d(32, 64, kernel_size=(3,), stride=(1,), padding=(1,))\n",
       "  (final_bn): BatchNorm1d(64, eps=1e-05, momentum=0.1, affine=True, track_running_stats=True)\n",
       "  (final_dropout): Dropout(p=0.3, inplace=False)\n",
       "  (dense1): Linear(in_features=1152, out_features=64, bias=True)\n",
       "  (dropout1): Dropout(p=0.3, inplace=False)\n",
       "  (dense2): Linear(in_features=64, out_features=32, bias=True)\n",
       "  (dropout2): Dropout(p=0.2, inplace=False)\n",
       "  (output_layer): Linear(in_features=32, out_features=1, bias=True)\n",
       "  (relu): ReLU()\n",
       ")"
      ]
     },
     "execution_count": 2,
     "metadata": {},
     "output_type": "execute_result"
    }
   ],
   "source": [
    "\n",
    "# 1. Probar modelo de regresión\n",
    "print(\"\\n=== PRUEBA MODELO DE REGRESIÓN (punt_matematicas) ===\")\n",
    "target_col_reg = 'punt_matematicas'\n",
    "\n",
    "# Crear y entrenar el modelo\n",
    "reg_model = ConvRegressor(\n",
    "    embedding_dim=4,\n",
    "    conv_filters=[16, 32],\n",
    "    dense_units=64\n",
    ")\n",
    "\n",
    "print(\"Construyendo modelo...\")\n",
    "reg_model.build_model(df_train_reg.copy(), 'punt_matematicas')\n"
   ]
  },
  {
   "cell_type": "code",
   "execution_count": null,
   "id": "06bce7e2",
   "metadata": {},
   "outputs": [
    {
     "name": "stdout",
     "output_type": "stream",
     "text": [
      "[LabelEncoderWithUnknown] 20 valores no vistos transformados a '__unknown__'\n",
      "[LabelEncoderWithUnknown] 2 valores no vistos transformados a '__unknown__'\n",
      "[LabelEncoderWithUnknown] 14 valores no vistos transformados a '__unknown__'\n",
      " Iniciando entrenamiento en cuda con 20363 muestras, 27 características (16 categóricas, 11 numéricas)\n"
     ]
    },
    {
     "name": "stderr",
     "output_type": "stream",
     "text": [
      "                                                                          \r"
     ]
    },
    {
     "name": "stdout",
     "output_type": "stream",
     "text": [
      "Validation loss decreased (inf --> 148.289413). Saving model...\n",
      " Época 1/30 | Train Loss: 243.4732 | Tiempo: 8.60s | Val Loss: 148.2894\n"
     ]
    },
    {
     "name": "stderr",
     "output_type": "stream",
     "text": [
      "                                                                        \r"
     ]
    },
    {
     "name": "stdout",
     "output_type": "stream",
     "text": [
      "Validation loss decreased (148.289413 --> 114.299919). Saving model...\n",
      " Época 2/30 | Train Loss: 153.3909 | Tiempo: 7.38s | Val Loss: 114.2999\n"
     ]
    },
    {
     "name": "stderr",
     "output_type": "stream",
     "text": [
      "                                                                        \r"
     ]
    },
    {
     "name": "stdout",
     "output_type": "stream",
     "text": [
      "Validation loss decreased (114.299919 --> 99.289520). Saving model...\n",
      " Época 3/30 | Train Loss: 148.8191 | Tiempo: 7.01s | Val Loss: 99.2895\n"
     ]
    },
    {
     "name": "stderr",
     "output_type": "stream",
     "text": [
      "                                                                         \r"
     ]
    },
    {
     "name": "stdout",
     "output_type": "stream",
     "text": [
      "Validation loss decreased (99.289520 --> 98.590302). Saving model...\n",
      " Época 4/30 | Train Loss: 145.3541 | Tiempo: 6.84s | Val Loss: 98.5903\n"
     ]
    },
    {
     "name": "stderr",
     "output_type": "stream",
     "text": [
      "                                                                         \r"
     ]
    },
    {
     "name": "stdout",
     "output_type": "stream",
     "text": [
      "EarlyStopping counter: 1 out of 5\n",
      " Época 5/30 | Train Loss: 144.4756 | Tiempo: 6.79s | Val Loss: 120.0122\n"
     ]
    },
    {
     "name": "stderr",
     "output_type": "stream",
     "text": [
      "                                                                         \r"
     ]
    },
    {
     "name": "stdout",
     "output_type": "stream",
     "text": [
      "Validation loss decreased (98.590302 --> 79.903175). Saving model...\n",
      " Época 6/30 | Train Loss: 141.1890 | Tiempo: 6.85s | Val Loss: 79.9032\n"
     ]
    },
    {
     "name": "stderr",
     "output_type": "stream",
     "text": [
      "                                                                        \r"
     ]
    },
    {
     "name": "stdout",
     "output_type": "stream",
     "text": [
      "EarlyStopping counter: 1 out of 5\n",
      " Época 7/30 | Train Loss: 140.1187 | Tiempo: 6.96s | Val Loss: 119.3887\n"
     ]
    },
    {
     "name": "stderr",
     "output_type": "stream",
     "text": [
      "                                                                        \r"
     ]
    },
    {
     "name": "stdout",
     "output_type": "stream",
     "text": [
      "EarlyStopping counter: 2 out of 5\n",
      " Época 8/30 | Train Loss: 137.1812 | Tiempo: 7.23s | Val Loss: 113.4046\n"
     ]
    },
    {
     "name": "stderr",
     "output_type": "stream",
     "text": [
      "                                                                        \r"
     ]
    },
    {
     "name": "stdout",
     "output_type": "stream",
     "text": [
      "EarlyStopping counter: 3 out of 5\n",
      " Época 9/30 | Train Loss: 137.6073 | Tiempo: 7.65s | Val Loss: 93.2020\n"
     ]
    },
    {
     "name": "stderr",
     "output_type": "stream",
     "text": [
      "                                                                         \r"
     ]
    },
    {
     "name": "stdout",
     "output_type": "stream",
     "text": [
      "EarlyStopping counter: 4 out of 5\n",
      " Época 10/30 | Train Loss: 137.2121 | Tiempo: 7.24s | Val Loss: 88.1607\n"
     ]
    },
    {
     "name": "stderr",
     "output_type": "stream",
     "text": [
      "                                                                         "
     ]
    },
    {
     "name": "stdout",
     "output_type": "stream",
     "text": [
      "EarlyStopping counter: 5 out of 5\n",
      " Época 11/30 | Train Loss: 132.2996 | Tiempo: 7.12s | Val Loss: 105.0071\n",
      "Early stopping en época 11\n"
     ]
    },
    {
     "name": "stderr",
     "output_type": "stream",
     "text": [
      "\r"
     ]
    }
   ],
   "source": [
    "reg_model.train(\n",
    "    target_col='punt_matematicas',\n",
    "    val_df=df_val_reg,             \n",
    "    early_stopping=True,            \n",
    "    patience=15,\n",
    "    epochs=30,\n",
    "    batch_size=32\n",
    ")\n"
   ]
  },
  {
   "cell_type": "code",
   "execution_count": 4,
   "id": "d96c8719",
   "metadata": {},
   "outputs": [
    {
     "name": "stdout",
     "output_type": "stream",
     "text": [
      "Evaluando en conjunto de validación...\n",
      "[LabelEncoderWithUnknown] 20 valores no vistos transformados a '__unknown__'\n",
      "[LabelEncoderWithUnknown] 2 valores no vistos transformados a '__unknown__'\n",
      "[LabelEncoderWithUnknown] 14 valores no vistos transformados a '__unknown__'\n",
      "MAE  (val): 6.8542\n",
      "MSE  (val): 79.9032\n",
      "RMSE (val): 8.9389\n",
      "R²   (val): 0.2418\n",
      "\n",
      "Evaluando en conjunto de test...\n",
      "[LabelEncoderWithUnknown] 38 valores no vistos transformados a '__unknown__'\n",
      "[LabelEncoderWithUnknown] 2 valores no vistos transformados a '__unknown__'\n",
      "[LabelEncoderWithUnknown] 32 valores no vistos transformados a '__unknown__'\n",
      "MAE  (test): 6.8062\n",
      "MSE  (test): 76.0322\n",
      "RMSE (test): 8.7196\n",
      "R²   (test): 0.2408\n"
     ]
    }
   ],
   "source": [
    "from sklearn.metrics import mean_absolute_error, mean_squared_error, r2_score\n",
    "import numpy as np\n",
    "\n",
    "# Evaluar en validación\n",
    "print(\"Evaluando en conjunto de validación...\")\n",
    "y_true_val_reg = df_val_reg[target_col_reg].values\n",
    "y_pred_val_reg = reg_model.predict(df_val_reg.drop(columns=[target_col_reg])).squeeze()\n",
    "\n",
    "mae_val = mean_absolute_error(y_true_val_reg, y_pred_val_reg)\n",
    "mse_val = mean_squared_error(y_true_val_reg, y_pred_val_reg)\n",
    "rmse_val = np.sqrt(mse_val)\n",
    "r2_val = r2_score(y_true_val_reg, y_pred_val_reg)\n",
    "\n",
    "print(f\"MAE  (val): {mae_val:.4f}\")\n",
    "print(f\"MSE  (val): {mse_val:.4f}\")\n",
    "print(f\"RMSE (val): {rmse_val:.4f}\")\n",
    "print(f\"R²   (val): {r2_val:.4f}\")\n",
    "\n",
    "# Evaluar en test\n",
    "print(\"\\nEvaluando en conjunto de test...\")\n",
    "y_true_test_reg = df_test_reg[target_col_reg].values\n",
    "y_pred_test_reg = reg_model.predict(df_test_reg.drop(columns=[target_col_reg])).squeeze()\n",
    "\n",
    "mae_test = mean_absolute_error(y_true_test_reg, y_pred_test_reg)\n",
    "mse_test = mean_squared_error(y_true_test_reg, y_pred_test_reg)\n",
    "rmse_test = np.sqrt(mse_test)\n",
    "r2_test = r2_score(y_true_test_reg, y_pred_test_reg)\n",
    "\n",
    "print(f\"MAE  (test): {mae_test:.4f}\")\n",
    "print(f\"MSE  (test): {mse_test:.4f}\")\n",
    "print(f\"RMSE (test): {rmse_test:.4f}\")\n",
    "print(f\"R²   (test): {r2_test:.4f}\")\n"
   ]
  },
  {
   "cell_type": "code",
   "execution_count": 5,
   "id": "8ba249e9",
   "metadata": {},
   "outputs": [
    {
     "name": "stdout",
     "output_type": "stream",
     "text": [
      "[LabelEncoderWithUnknown] 20 valores no vistos transformados a '__unknown__'\n",
      "[LabelEncoderWithUnknown] 2 valores no vistos transformados a '__unknown__'\n",
      "[LabelEncoderWithUnknown] 14 valores no vistos transformados a '__unknown__'\n",
      " Iniciando entrenamiento en cuda con 20363 muestras, 27 características (16 categóricas, 11 numéricas)\n"
     ]
    },
    {
     "name": "stderr",
     "output_type": "stream",
     "text": [
      "                                                                           \r"
     ]
    },
    {
     "name": "stdout",
     "output_type": "stream",
     "text": [
      "Validation loss decreased (inf --> 0.597047). Saving model...\n",
      " Época 1/50 | Train Loss: 0.6289 | Tiempo: 14.55s | Val Loss: 0.5970\n"
     ]
    },
    {
     "name": "stderr",
     "output_type": "stream",
     "text": [
      "                                                                            \r"
     ]
    },
    {
     "name": "stdout",
     "output_type": "stream",
     "text": [
      "Validation loss decreased (0.597047 --> 0.596874). Saving model...\n",
      " Época 2/50 | Train Loss: 0.6068 | Tiempo: 14.13s | Val Loss: 0.5969\n"
     ]
    },
    {
     "name": "stderr",
     "output_type": "stream",
     "text": [
      "                                                                           \r"
     ]
    },
    {
     "name": "stdout",
     "output_type": "stream",
     "text": [
      "Validation loss decreased (0.596874 --> 0.592899). Saving model...\n",
      " Época 3/50 | Train Loss: 0.6030 | Tiempo: 14.01s | Val Loss: 0.5929\n"
     ]
    },
    {
     "name": "stderr",
     "output_type": "stream",
     "text": [
      "                                                                           \r"
     ]
    },
    {
     "name": "stdout",
     "output_type": "stream",
     "text": [
      "Validation loss decreased (0.592899 --> 0.587385). Saving model...\n",
      " Época 4/50 | Train Loss: 0.5993 | Tiempo: 15.07s | Val Loss: 0.5874\n"
     ]
    },
    {
     "name": "stderr",
     "output_type": "stream",
     "text": [
      "                                                                            \r"
     ]
    },
    {
     "name": "stdout",
     "output_type": "stream",
     "text": [
      "EarlyStopping counter: 1 out of 5\n",
      " Época 5/50 | Train Loss: 0.5990 | Tiempo: 14.13s | Val Loss: 0.5943\n"
     ]
    },
    {
     "name": "stderr",
     "output_type": "stream",
     "text": [
      "                                                                           \r"
     ]
    },
    {
     "name": "stdout",
     "output_type": "stream",
     "text": [
      "Validation loss decreased (0.587385 --> 0.585343). Saving model...\n",
      " Época 6/50 | Train Loss: 0.5942 | Tiempo: 13.66s | Val Loss: 0.5853\n"
     ]
    },
    {
     "name": "stderr",
     "output_type": "stream",
     "text": [
      "                                                                            \r"
     ]
    },
    {
     "name": "stdout",
     "output_type": "stream",
     "text": [
      "EarlyStopping counter: 1 out of 5\n",
      " Época 7/50 | Train Loss: 0.5917 | Tiempo: 14.14s | Val Loss: 0.5874\n"
     ]
    },
    {
     "name": "stderr",
     "output_type": "stream",
     "text": [
      "                                                                           \r"
     ]
    },
    {
     "name": "stdout",
     "output_type": "stream",
     "text": [
      "Validation loss decreased (0.585343 --> 0.582730). Saving model...\n",
      " Época 8/50 | Train Loss: 0.5907 | Tiempo: 14.92s | Val Loss: 0.5827\n"
     ]
    },
    {
     "name": "stderr",
     "output_type": "stream",
     "text": [
      "                                                                           \r"
     ]
    },
    {
     "name": "stdout",
     "output_type": "stream",
     "text": [
      "EarlyStopping counter: 1 out of 5\n",
      " Época 9/50 | Train Loss: 0.5896 | Tiempo: 15.57s | Val Loss: 0.5835\n"
     ]
    },
    {
     "name": "stderr",
     "output_type": "stream",
     "text": [
      "                                                                            \r"
     ]
    },
    {
     "name": "stdout",
     "output_type": "stream",
     "text": [
      "Validation loss decreased (0.582730 --> 0.581689). Saving model...\n",
      " Época 10/50 | Train Loss: 0.5851 | Tiempo: 15.45s | Val Loss: 0.5817\n"
     ]
    },
    {
     "name": "stderr",
     "output_type": "stream",
     "text": [
      "                                                                             \r"
     ]
    },
    {
     "name": "stdout",
     "output_type": "stream",
     "text": [
      "EarlyStopping counter: 1 out of 5\n",
      " Época 11/50 | Train Loss: 0.5837 | Tiempo: 14.05s | Val Loss: 0.5851\n"
     ]
    },
    {
     "name": "stderr",
     "output_type": "stream",
     "text": [
      "                                                                            \r"
     ]
    },
    {
     "name": "stdout",
     "output_type": "stream",
     "text": [
      "EarlyStopping counter: 2 out of 5\n",
      " Época 12/50 | Train Loss: 0.5829 | Tiempo: 14.44s | Val Loss: 0.5878\n"
     ]
    },
    {
     "name": "stderr",
     "output_type": "stream",
     "text": [
      "                                                                            \r"
     ]
    },
    {
     "name": "stdout",
     "output_type": "stream",
     "text": [
      "EarlyStopping counter: 3 out of 5\n",
      " Época 13/50 | Train Loss: 0.5804 | Tiempo: 15.08s | Val Loss: 0.5876\n"
     ]
    },
    {
     "name": "stderr",
     "output_type": "stream",
     "text": [
      "                                                                            \r"
     ]
    },
    {
     "name": "stdout",
     "output_type": "stream",
     "text": [
      "EarlyStopping counter: 4 out of 5\n",
      " Época 14/50 | Train Loss: 0.5768 | Tiempo: 15.36s | Val Loss: 0.5818\n"
     ]
    },
    {
     "name": "stderr",
     "output_type": "stream",
     "text": [
      "                                                                            \r"
     ]
    },
    {
     "name": "stdout",
     "output_type": "stream",
     "text": [
      "EarlyStopping counter: 5 out of 5\n",
      " Época 15/50 | Train Loss: 0.5753 | Tiempo: 15.42s | Val Loss: 0.5847\n",
      "Early stopping en época 15\n"
     ]
    }
   ],
   "source": [
    "clf_model = ConvClassifier()\n",
    "clf_model.build_model(df_train_clf.copy(), 'eco')\n",
    "clf_model.train(\n",
    "    target_col='eco',\n",
    "    val_df=df_val_clf,              \n",
    "    early_stopping=True,            \n",
    "    patience=5,                    \n",
    "    epochs=50\n",
    ")\n"
   ]
  },
  {
   "cell_type": "code",
   "execution_count": null,
   "id": "ae054219",
   "metadata": {},
   "outputs": [],
   "source": [
    "# Evaluar en validación\n",
    "print(\"Evaluando en conjunto de validación...\")\n",
    "y_true_val_clf = df_val_clf[target_col_clf].values\n",
    "y_pred_val_clf = clf_model.predict(df_val_clf.drop(columns=[target_col_clf])).squeeze()\n",
    "y_pred_val_clf_binary = (y_pred_val_clf > 0.5).astype(int)\n",
    "accuracy_val = accuracy_score(y_true_val_clf, y_pred_val_clf_binary)\n",
    "print(f\"Accuracy en validación: {accuracy_val:.4f}\")\n",
    "\n",
    "# Evaluar en test\n",
    "print(\"Evaluando en conjunto de test...\")\n",
    "y_true_test_clf = df_test_clf[target_col_clf].values\n",
    "y_pred_test_clf = clf_model.predict(df_test_clf.drop(columns=[target_col_clf])).squeeze()\n",
    "y_pred_test_clf_binary = (y_pred_test_clf > 0.5).astype(int)\n",
    "accuracy_test = accuracy_score(y_true_test_clf, y_pred_test_clf_binary)\n",
    "print(f\"Accuracy en test: {accuracy_test:.4f}\")\n"
   ]
  }
 ],
 "metadata": {
  "kernelspec": {
   "display_name": "Python 3",
   "language": "python",
   "name": "python3"
  },
  "language_info": {
   "codemirror_mode": {
    "name": "ipython",
    "version": 3
   },
   "file_extension": ".py",
   "mimetype": "text/x-python",
   "name": "python",
   "nbconvert_exporter": "python",
   "pygments_lexer": "ipython3",
   "version": "3.11.9"
  }
 },
 "nbformat": 4,
 "nbformat_minor": 5
}
