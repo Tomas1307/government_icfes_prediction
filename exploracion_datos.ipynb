{
 "cells": [
  {
   "cell_type": "markdown",
   "metadata": {},
   "source": [
    "# Exploracion datos"
   ]
  },
  {
   "cell_type": "code",
   "execution_count": null,
   "metadata": {},
   "outputs": [],
   "source": [
    "import pandas as pd\n",
    "import matplotlib.pyplot as plt\n",
    "import numpy as np\n",
    "import seaborn as sb\n",
    "import ydata_profiling \n",
    "import scipy.stats as stats"
   ]
  },
  {
   "cell_type": "code",
   "execution_count": null,
   "metadata": {},
   "outputs": [],
   "source": [
    "\n",
    "df = pd.read_csv('./data/datos_apartamentos_rent_clean.csv', sep=';')"
   ]
  },
  {
   "cell_type": "code",
   "execution_count": null,
   "metadata": {},
   "outputs": [],
   "source": [
    "ydata_profiling.ProfileReport(df)"
   ]
  },
  {
   "cell_type": "code",
   "execution_count": null,
   "metadata": {},
   "outputs": [],
   "source": [
    "#Nombres de columnas\n",
    "df.columns = df.columns.str.strip()\n",
    "\n",
    "df.columns = df.columns.str.replace(',', '', regex=True)  \n",
    "df = df.rename(columns={df.columns[-1]: \"time\"})  \n",
    "\n",
    "\n",
    "df['square_feet'] = pd.to_numeric(df['square_feet'], errors='coerce')\n",
    "\n",
    "\n",
    "print(df.columns.tolist())\n"
   ]
  },
  {
   "cell_type": "code",
   "execution_count": null,
   "metadata": {},
   "outputs": [],
   "source": [
    "print(df.info())"
   ]
  },
  {
   "cell_type": "code",
   "execution_count": null,
   "metadata": {},
   "outputs": [],
   "source": [
    "# datos nulos \n",
    "print(df.isnull().sum())"
   ]
  },
  {
   "cell_type": "code",
   "execution_count": null,
   "metadata": {},
   "outputs": [],
   "source": [
    "# cambiar la categoria de las variables \n",
    "\n",
    "df['price'] = pd.to_numeric(df['price'], errors='coerce')\n",
    "df['square_feet'] = pd.to_numeric(df['square_feet'], errors='coerce')\n",
    "df['bathrooms'] = pd.to_numeric(df['bathrooms'], errors='coerce')\n",
    "df['bedrooms'] = pd.to_numeric(df['bedrooms'], errors='coerce')\n",
    "\n",
    "\n",
    "print(df[['price', 'square_feet', 'bathrooms', 'bedrooms']].info())"
   ]
  },
  {
   "cell_type": "code",
   "execution_count": null,
   "metadata": {},
   "outputs": [],
   "source": [
    "# Estadísticas generales de las variables numéricas\n",
    "print(df.describe())"
   ]
  },
  {
   "cell_type": "code",
   "execution_count": null,
   "metadata": {},
   "outputs": [],
   "source": [
    "# Histograma de variables numericas\n",
    "%matplotlib inline\n",
    "numeric_columns = ['bathrooms', 'bedrooms', 'price', 'square_feet', 'longitude']\n",
    "\n",
    "df_clean = df.dropna(subset=numeric_columns)\n",
    "\n",
    "for col in numeric_columns:\n",
    "    plt.figure(figsize=(8, 5))  \n",
    "    sb.histplot(df_clean[col], bins=50, kde=True, color='blue')  \n",
    "    plt.title(f'Histograma de {col}')\n",
    "    plt.xlabel(col)\n",
    "    plt.ylabel('Frecuencia')\n",
    "    plt.grid(True)\n",
    "    plt.show()  "
   ]
  },
  {
   "cell_type": "code",
   "execution_count": null,
   "metadata": {},
   "outputs": [],
   "source": [
    "# Ver estadística de variables categóricas\n",
    "print(df.describe(include=['O']))"
   ]
  },
  {
   "cell_type": "code",
   "execution_count": null,
   "metadata": {},
   "outputs": [],
   "source": [
    "# grafica de barras de variables categoricas\n",
    "categorical_columns = ['category', 'currency', 'fee', 'has_photo', 'pets_allowed', 'state', 'source']\n",
    "\n",
    "for col in categorical_columns:\n",
    "    plt.figure(figsize=(10, 10))\n",
    "    sb.countplot(y=df[col], order=df[col].value_counts().index, palette='coolwarm')\n",
    "    plt.title(f'Distribución de {col}')\n",
    "    plt.xlabel('Frecuencia')\n",
    "    plt.ylabel(col)\n",
    "    plt.grid(True)\n",
    "    plt.show()\n"
   ]
  },
  {
   "cell_type": "code",
   "execution_count": null,
   "metadata": {},
   "outputs": [],
   "source": [
    "# Boxplot variables numéricas\n",
    "numeric_columns = ['bathrooms', 'bedrooms', 'price', 'square_feet', 'longitude']\n",
    "\n",
    "for col in numeric_columns:\n",
    "    plt.figure(figsize=(8, 5))  \n",
    "    sb.boxplot(x=df[col], color='blue')  \n",
    "    plt.title(f'Boxplot de {col}')\n",
    "    plt.xlabel(col)\n",
    "    plt.grid(True)\n",
    "    plt.show()\n"
   ]
  },
  {
   "cell_type": "code",
   "execution_count": null,
   "metadata": {},
   "outputs": [],
   "source": [
    "#Graficos de Dispercion \n",
    "\n",
    "#Precio-metros cuadrados\n",
    "plt.figure(figsize=(8, 5))\n",
    "sb.scatterplot(x=df['square_feet'], y=df['price'], alpha=0.5)\n",
    "plt.title('Precio vs. Tamaño (square_feet)')\n",
    "plt.xlabel('Tamaño (square_feet)')\n",
    "plt.ylabel('Precio')\n",
    "plt.grid(True)\n",
    "plt.show()\n",
    "\n",
    "#Precio-num habitaciones\n",
    "plt.figure(figsize=(8, 5))\n",
    "sb.scatterplot(x=df['bedrooms'], y=df['price'], alpha=0.5)\n",
    "plt.title('Precio vs. Número de Habitaciones')\n",
    "plt.xlabel('Número de Habitaciones')\n",
    "plt.ylabel('Precio')\n",
    "plt.grid(True)\n",
    "plt.show()\n",
    "\n",
    "#Precio-num baños\n",
    "plt.figure(figsize=(8, 5))\n",
    "sb.scatterplot(x=df['bathrooms'], y=df['price'], alpha=0.5)\n",
    "plt.title('Precio vs. Número de Baños')\n",
    "plt.xlabel('Número de Baños')\n",
    "plt.ylabel('Precio')\n",
    "plt.grid(True)\n",
    "plt.show()\n",
    "\n",
    "#Precio-longitud\n",
    "plt.figure(figsize=(8, 5))\n",
    "sb.scatterplot(x=df['longitude'], y=df['price'], alpha=0.5)\n",
    "plt.title('Precio vs. Ubicación (Longitud)')\n",
    "plt.xlabel('Longitud')\n",
    "plt.ylabel('Precio')\n",
    "plt.grid(True)\n",
    "plt.show()"
   ]
  },
  {
   "cell_type": "code",
   "execution_count": null,
   "metadata": {},
   "outputs": [],
   "source": [
    "#Graficos de Violin \n",
    "\n",
    "#precio-habitaciones\n",
    "plt.figure(figsize=(8, 5))\n",
    "sb.violinplot(x=df['bedrooms'], y=df['price'], inner='quartile')\n",
    "plt.title('Distribución del Precio por Número de Habitaciones')\n",
    "plt.xlabel('Número de Habitaciones')\n",
    "plt.ylabel('Precio')\n",
    "plt.grid(True)\n",
    "plt.show()\n",
    "\n",
    "#baños-precio\n",
    "plt.figure(figsize=(8, 5))\n",
    "sb.violinplot(x=df['bathrooms'], y=df['price'], inner='quartile')\n",
    "plt.title('Distribución del Precio por Número de Baños')\n",
    "plt.xlabel('Número de Baños')\n",
    "plt.ylabel('Precio')\n",
    "plt.grid(True)\n",
    "plt.show()\n"
   ]
  },
  {
   "cell_type": "code",
   "execution_count": null,
   "metadata": {},
   "outputs": [],
   "source": [
    "#linealidad de datos cuantitativos\n",
    "df[['price', 'square_feet', 'bathrooms', 'bedrooms']].corr()\n",
    "\n",
    "\n",
    "\n",
    "# independencia\n",
    "X = df[['square_feet', 'bathrooms', 'bedrooms']]  \n",
    "X = sm.add_constant(X)  # Agregar intercepto\n",
    "y = df['price']  \n",
    "\n",
    "X.replace([np.inf, -np.inf], np.nan, inplace=True)  \n",
    "df_clean = X.join(y).dropna() \n",
    "\n",
    "X = df_clean.drop(columns=['price'])\n",
    "y = df_clean['price']\n",
    "\n",
    "modelo = sm.OLS(y, X).fit()\n",
    "\n",
    "# Test Durbin-Watson\n",
    "from statsmodels.stats.stattools import durbin_watson\n",
    "residuals = modelo.resid\n",
    "print(\"Durbin-Watson:\", durbin_watson(residuals))\n",
    "\n",
    "\n",
    "#Homocedasticidad\n",
    "plt.scatter(modelo.fittedvalues, modelo.resid, alpha=0.5)\n",
    "plt.axhline(y=0, color='r', linestyle='--')\n",
    "plt.xlabel(\"Valores Ajustados\")\n",
    "plt.ylabel(\"Residuos\")\n",
    "plt.title(\"Gráfico de Residuos vs Valores Ajustados\")\n",
    "plt.show()\n",
    "\n",
    "#Normalidad\n",
    "\n",
    "sb.histplot(modelo.resid, kde=True)\n",
    "plt.title(\"Distribución de Residuos\")\n",
    "plt.show()\n",
    "\n",
    "stats.probplot(modelo.resid, dist=\"norm\", plot=plt)\n",
    "plt.title(\"Gráfico Q-Q de Residuos\")\n",
    "plt.show()\n"
   ]
  }
 ],
 "metadata": {
  "kernelspec": {
   "display_name": "Python 3",
   "language": "python",
   "name": "python3"
  },
  "language_info": {
   "codemirror_mode": {
    "name": "ipython",
    "version": 3
   },
   "file_extension": ".py",
   "mimetype": "text/x-python",
   "name": "python",
   "nbconvert_exporter": "python",
   "pygments_lexer": "ipython3",
   "version": "3.12.1"
  }
 },
 "nbformat": 4,
 "nbformat_minor": 2
}
